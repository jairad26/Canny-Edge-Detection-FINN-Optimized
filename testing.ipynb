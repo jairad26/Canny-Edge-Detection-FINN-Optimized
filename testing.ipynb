{
 "cells": [
  {
   "cell_type": "code",
   "execution_count": 27,
   "metadata": {},
   "outputs": [],
   "source": [
    "import cv2\n",
    "import numpy as np\n",
    "from scipy import ndimage\n",
    "import scipy\n",
    "from scipy import ndimage\n",
    "import imageio\n",
    "import time\n",
    "import numpy as np\n",
    "from PIL import Image\n",
    "import matplotlib.pyplot as plt"
   ]
  },
  {
   "cell_type": "code",
   "execution_count": 28,
   "metadata": {},
   "outputs": [
    {
     "data": {
      "text/plain": [
       "True"
      ]
     },
     "execution_count": 28,
     "metadata": {},
     "output_type": "execute_result"
    }
   ],
   "source": [
    "\n",
    "\n",
    "start = time.time()\n",
    "# outframe = hdmi_out.newframe()\n",
    "#2D Sobel operator https://stackoverflow.com/questions/7185655/applying-the-sobel-filter-using-scipy\n",
    "im = imageio.imread(\"cartoon.jpg\")\n",
    "im = im.astype('int32')\n",
    "dx = ndimage.sobel(im, 0) # horizontal deriv\n",
    "dy = ndimage.sobel(im, 1) # vertical deriv\n",
    "mag = np.hypot(dx, dy) # magnitude\n",
    "mag *= 255.0/np.max(mag) #normalize\n",
    "cv2.imwrite(\"cartoon_mag.jpg\", mag)\n",
    "\n",
    "        \n",
    "\n",
    "\n",
    "# print(\"Frames per second: \" + str((num_frames-readError) / (end - start)))\n",
    "# print(\"Number of read errors: \" + str(readError))"
   ]
  },
  {
   "cell_type": "code",
   "execution_count": 29,
   "metadata": {},
   "outputs": [
    {
     "data": {
      "text/plain": [
       "True"
      ]
     },
     "execution_count": 29,
     "metadata": {},
     "output_type": "execute_result"
    }
   ],
   "source": [
    "# https://medium.com/@nikatsanka/comparing-edge-detection-methods-638a2919476e\n",
    "\n",
    "# sobel operator manually\n",
    "\n",
    "# Apply gray scale\n",
    "gray_img = np.round(0.299 * im[:, :, 0] +\n",
    "                    0.587 * im[:, :, 1] +\n",
    "                    0.114 * im[:, :, 2]).astype(np.uint8)\n",
    "\n",
    "# Sobel Operator\n",
    "h, w = gray_img.shape\n",
    "# define filters\n",
    "horizontal = np.array([[-1, 0, 1], [-2, 0, 2], [-1, 0, 1]])  # s2\n",
    "vertical = np.array([[-1, -2, -1], [0, 0, 0], [1, 2, 1]])  # s1\n",
    "\n",
    "# define images with 0s\n",
    "newhorizontalImage = np.zeros((h, w))\n",
    "newverticalImage = np.zeros((h, w))\n",
    "newgradientImage = np.zeros((h, w))\n",
    "\n",
    "# offset by 1\n",
    "for i in range(1, h - 1):\n",
    "    for j in range(1, w - 1):\n",
    "        horizontalGrad = (horizontal[0, 0] * gray_img[i - 1, j - 1]) + \\\n",
    "                         (horizontal[0, 1] * gray_img[i - 1, j]) + \\\n",
    "                         (horizontal[0, 2] * gray_img[i - 1, j + 1]) + \\\n",
    "                         (horizontal[1, 0] * gray_img[i, j - 1]) + \\\n",
    "                         (horizontal[1, 1] * gray_img[i, j]) + \\\n",
    "                         (horizontal[1, 2] * gray_img[i, j + 1]) + \\\n",
    "                         (horizontal[2, 0] * gray_img[i + 1, j - 1]) + \\\n",
    "                         (horizontal[2, 1] * gray_img[i + 1, j]) + \\\n",
    "                         (horizontal[2, 2] * gray_img[i + 1, j + 1])\n",
    "\n",
    "        newhorizontalImage[i - 1, j - 1] = abs(horizontalGrad)\n",
    "\n",
    "        verticalGrad = (vertical[0, 0] * gray_img[i - 1, j - 1]) + \\\n",
    "                       (vertical[0, 1] * gray_img[i - 1, j]) + \\\n",
    "                       (vertical[0, 2] * gray_img[i - 1, j + 1]) + \\\n",
    "                       (vertical[1, 0] * gray_img[i, j - 1]) + \\\n",
    "                       (vertical[1, 1] * gray_img[i, j]) + \\\n",
    "                       (vertical[1, 2] * gray_img[i, j + 1]) + \\\n",
    "                       (vertical[2, 0] * gray_img[i + 1, j - 1]) + \\\n",
    "                       (vertical[2, 1] * gray_img[i + 1, j]) + \\\n",
    "                       (vertical[2, 2] * gray_img[i + 1, j + 1])\n",
    "\n",
    "        newverticalImage[i - 1, j - 1] = abs(verticalGrad)\n",
    "\n",
    "        # Edge Magnitude\n",
    "        mag = np.sqrt(pow(horizontalGrad, 2.0) + pow(verticalGrad, 2.0))\n",
    "        newgradientImage[i - 1, j - 1] = mag\n",
    "\n",
    "cv2.imwrite(\"cartoon_sobel.jpg\", newgradientImage)\n"
   ]
  },
  {
   "cell_type": "code",
   "execution_count": 30,
   "metadata": {},
   "outputs": [
    {
     "data": {
      "text/plain": [
       "True"
      ]
     },
     "execution_count": 30,
     "metadata": {},
     "output_type": "execute_result"
    }
   ],
   "source": [
    "#prewitt\n",
    "horizontal = np.array([[-1, 0, 1], [-1, 0, 1], [-1, 0, 1]])  # s2\n",
    "vertical = np.array([[-1, -1, -1], [0, 0, 0], [1, 1, 1]])  # s1\n",
    "\n",
    "# define images with 0s\n",
    "newgradientImage = np.zeros((h, w))\n",
    "\n",
    "# offset by 1\n",
    "for i in range(1, h - 1):\n",
    "    for j in range(1, w - 1):\n",
    "        horizontalGrad = (horizontal[0, 0] * gray_img[i - 1, j - 1]) + \\\n",
    "                         (horizontal[0, 1] * gray_img[i - 1, j]) + \\\n",
    "                         (horizontal[0, 2] * gray_img[i - 1, j + 1]) + \\\n",
    "                         (horizontal[1, 0] * gray_img[i, j - 1]) + \\\n",
    "                         (horizontal[1, 1] * gray_img[i, j]) + \\\n",
    "                         (horizontal[1, 2] * gray_img[i, j + 1]) + \\\n",
    "                         (horizontal[2, 0] * gray_img[i + 1, j - 1]) + \\\n",
    "                         (horizontal[2, 1] * gray_img[i + 1, j]) + \\\n",
    "                         (horizontal[2, 2] * gray_img[i + 1, j + 1])\n",
    "\n",
    "        verticalGrad = (vertical[0, 0] * gray_img[i - 1, j - 1]) + \\\n",
    "                       (vertical[0, 1] * gray_img[i - 1, j]) + \\\n",
    "                       (vertical[0, 2] * gray_img[i - 1, j + 1]) + \\\n",
    "                       (vertical[1, 0] * gray_img[i, j - 1]) + \\\n",
    "                       (vertical[1, 1] * gray_img[i, j]) + \\\n",
    "                       (vertical[1, 2] * gray_img[i, j + 1]) + \\\n",
    "                       (vertical[2, 0] * gray_img[i + 1, j - 1]) + \\\n",
    "                       (vertical[2, 1] * gray_img[i + 1, j]) + \\\n",
    "                       (vertical[2, 2] * gray_img[i + 1, j + 1])\n",
    "\n",
    "        # Edge Magnitude\n",
    "        mag = np.sqrt(pow(horizontalGrad, 2.0) + pow(verticalGrad, 2.0))\n",
    "        newgradientImage[i - 1, j - 1] = mag\n",
    "\n",
    "\n",
    "cv2.imwrite(\"cartoon_prewitt.jpg\", newgradientImage)\n"
   ]
  },
  {
   "cell_type": "code",
   "execution_count": 40,
   "metadata": {},
   "outputs": [
    {
     "data": {
      "text/plain": [
       "True"
      ]
     },
     "execution_count": 40,
     "metadata": {},
     "output_type": "execute_result"
    }
   ],
   "source": [
    "#laplachian\n",
    "# horizontal = np.array([[0, 1, 0], [1, -4, 1], [0, 1, 0]]) #positive laplachian\n",
    "horizontal = np.array([[0, -1, 0], [-1, 4, -1], [0, -1, 0]]) #negative laplachian\n",
    "vertical = np.array([[-1, -1, -1], [-1, 8, -1], [-1, -1, -1]]) \n",
    "# horizontal = np.array([[-1, 0, 1], [-1, 0, 1], [-1, 0, 1]])  # s2\n",
    "# vertical = np.array([[-1, -1, -1], [0, 0, 0], [1, 1, 1]])  # s1\n",
    "\n",
    "# define images with 0s\n",
    "newgradientImage = np.zeros((h, w))\n",
    "\n",
    "# offset by 1\n",
    "for i in range(1, h - 1):\n",
    "    for j in range(1, w - 1):\n",
    "        horizontalGrad = (horizontal[0, 0] * gray_img[i - 1, j - 1]) + \\\n",
    "                         (horizontal[0, 1] * gray_img[i - 1, j]) + \\\n",
    "                         (horizontal[0, 2] * gray_img[i - 1, j + 1]) + \\\n",
    "                         (horizontal[1, 0] * gray_img[i, j - 1]) + \\\n",
    "                         (horizontal[1, 1] * gray_img[i, j]) + \\\n",
    "                         (horizontal[1, 2] * gray_img[i, j + 1]) + \\\n",
    "                         (horizontal[2, 0] * gray_img[i + 1, j - 1]) + \\\n",
    "                         (horizontal[2, 1] * gray_img[i + 1, j]) + \\\n",
    "                         (horizontal[2, 2] * gray_img[i + 1, j + 1])\n",
    "\n",
    "        verticalGrad = (vertical[0, 0] * gray_img[i - 1, j - 1]) + \\\n",
    "                       (vertical[0, 1] * gray_img[i - 1, j]) + \\\n",
    "                       (vertical[0, 2] * gray_img[i - 1, j + 1]) + \\\n",
    "                       (vertical[1, 0] * gray_img[i, j - 1]) + \\\n",
    "                       (vertical[1, 1] * gray_img[i, j]) + \\\n",
    "                       (vertical[1, 2] * gray_img[i, j + 1]) + \\\n",
    "                       (vertical[2, 0] * gray_img[i + 1, j - 1]) + \\\n",
    "                       (vertical[2, 1] * gray_img[i + 1, j]) + \\\n",
    "                       (vertical[2, 2] * gray_img[i + 1, j + 1])\n",
    "\n",
    "        # Edge Magnitude\n",
    "        mag = np.sqrt(pow(horizontalGrad, 2.0) + pow(verticalGrad, 2.0))\n",
    "        newgradientImage[i - 1, j - 1] = mag\n",
    "\n",
    "cv2.imwrite(\"cartoon_laplachian.jpg\", newgradientImage)\n"
   ]
  },
  {
   "cell_type": "code",
   "execution_count": 32,
   "metadata": {},
   "outputs": [],
   "source": [
    "#morphologic edge out https://stackoverflow.com/questions/61643039/improving-canny-edge-detection\n",
    "img = cv2.imread(\"cartoon.jpg\")\n",
    "\n",
    "gray = cv2.cvtColor(img, cv2.COLOR_BGR2GRAY)\n",
    "threshold = cv2.threshold(gray, 180, 255, cv2.THRESH_BINARY)[1]\n",
    "kernel = cv2.getStructuringElement(cv2.MORPH_RECT, (5,5))\n",
    "dilate = cv2.morphologyEx(threshold, cv2.MORPH_DILATE, kernel)\n",
    "\n",
    "diff = cv2.absdiff(dilate, threshold)\n",
    "# edges = 255-diff\n",
    "        \n",
    "# cv2.Canny(frame_webcam, 100, 110, edges=outframe)\n",
    "cv2.imwrite(\"cartoon_edges.jpg\", diff)\n",
    "end = time.time()"
   ]
  },
  {
   "cell_type": "code",
   "execution_count": 33,
   "metadata": {},
   "outputs": [
    {
     "data": {
      "text/plain": [
       "True"
      ]
     },
     "execution_count": 33,
     "metadata": {},
     "output_type": "execute_result"
    }
   ],
   "source": [
    "\n",
    "img2 = cv2.Canny(img, 100, 110)\n",
    "# cannyEdges = 255-img2\n",
    "\n",
    "cv2.imwrite('cartoon_canny.jpg', img2)"
   ]
  },
  {
   "cell_type": "code",
   "execution_count": 34,
   "metadata": {},
   "outputs": [],
   "source": [
    "# look into different gaussian filters x\n",
    "# Sobel operator as gradient (already implemented), so look into different gradients x\n",
    "# different edge out functions\n",
    "# diferrent operator functions https://medium.com/@nikatsanka/comparing-edge-detection-methods-638a2919476e"
   ]
  }
 ],
 "metadata": {
  "interpreter": {
   "hash": "c363bd452b4cd960c3544f6b5b319cd180a5fb23ba0f180b40c1c18a7f15ae61"
  },
  "kernelspec": {
   "display_name": "Python 3.9.7 ('base')",
   "language": "python",
   "name": "python3"
  },
  "language_info": {
   "codemirror_mode": {
    "name": "ipython",
    "version": 3
   },
   "file_extension": ".py",
   "mimetype": "text/x-python",
   "name": "python",
   "nbconvert_exporter": "python",
   "pygments_lexer": "ipython3",
   "version": "3.9.7"
  },
  "orig_nbformat": 4
 },
 "nbformat": 4,
 "nbformat_minor": 2
}
