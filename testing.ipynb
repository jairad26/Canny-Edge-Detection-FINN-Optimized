{
 "cells": [
  {
   "cell_type": "code",
   "execution_count": 22,
   "metadata": {},
   "outputs": [],
   "source": [
    "import cv2\n",
    "import numpy as np\n",
    "from scipy import ndimage\n",
    "import scipy\n",
    "from scipy import ndimage\n",
    "import imageio\n",
    "import time"
   ]
  },
  {
   "cell_type": "code",
   "execution_count": 23,
   "metadata": {},
   "outputs": [
    {
     "data": {
      "text/plain": [
       "True"
      ]
     },
     "execution_count": 23,
     "metadata": {},
     "output_type": "execute_result"
    }
   ],
   "source": [
    "\n",
    "\n",
    "start = time.time()\n",
    "# outframe = hdmi_out.newframe()\n",
    "#2D Sobel operator https://stackoverflow.com/questions/7185655/applying-the-sobel-filter-using-scipy\n",
    "im = imageio.imread(\"cartoon.jpg\")\n",
    "im = im.astype('int32')\n",
    "dx = ndimage.sobel(im, 0) # horizontal deriv\n",
    "dy = ndimage.sobel(im, 1) # vertical deriv\n",
    "mag = np.hypot(dx, dy) # magnitude\n",
    "mag *= 255.0/np.max(mag) #normalize\n",
    "cv2.imwrite(\"cartoon_mag.jpg\", mag)\n",
    "\n",
    "        \n",
    "\n",
    "\n",
    "# print(\"Frames per second: \" + str((num_frames-readError) / (end - start)))\n",
    "# print(\"Number of read errors: \" + str(readError))"
   ]
  },
  {
   "cell_type": "code",
   "execution_count": 24,
   "metadata": {},
   "outputs": [],
   "source": [
    "#morphologic edge out https://stackoverflow.com/questions/61643039/improving-canny-edge-detection\n",
    "img = cv2.imread(\"cartoon.jpg\")\n",
    "\n",
    "gray = cv2.cvtColor(img, cv2.COLOR_BGR2GRAY)\n",
    "threshold = cv2.threshold(gray, 180, 255, cv2.THRESH_BINARY)[1]\n",
    "kernel = cv2.getStructuringElement(cv2.MORPH_RECT, (5,5))\n",
    "dilate = cv2.morphologyEx(threshold, cv2.MORPH_DILATE, kernel)\n",
    "\n",
    "diff = cv2.absdiff(dilate, threshold)\n",
    "# edges = 255-diff\n",
    "        \n",
    "# cv2.Canny(frame_webcam, 100, 110, edges=outframe)\n",
    "cv2.imwrite(\"cartoon_edges.jpg\", diff)\n",
    "end = time.time()"
   ]
  },
  {
   "cell_type": "code",
   "execution_count": 25,
   "metadata": {},
   "outputs": [
    {
     "data": {
      "text/plain": [
       "True"
      ]
     },
     "execution_count": 25,
     "metadata": {},
     "output_type": "execute_result"
    }
   ],
   "source": [
    "\n",
    "img2 = cv2.Canny(img, 100, 110)\n",
    "# cannyEdges = 255-img2\n",
    "\n",
    "cv2.imwrite('cartoon_canny.jpg', img2)"
   ]
  },
  {
   "cell_type": "code",
   "execution_count": null,
   "metadata": {},
   "outputs": [],
   "source": [
    "# look into different gaussian filters\n",
    "# Sobel operator as gradient (already implemented), so look into different gradients\n",
    "# different edge out functions\n",
    "# diferrent operator functions https://medium.com/@nikatsanka/comparing-edge-detection-methods-638a2919476e"
   ]
  }
 ],
 "metadata": {
  "interpreter": {
   "hash": "c363bd452b4cd960c3544f6b5b319cd180a5fb23ba0f180b40c1c18a7f15ae61"
  },
  "kernelspec": {
   "display_name": "Python 3.9.7 ('base')",
   "language": "python",
   "name": "python3"
  },
  "language_info": {
   "codemirror_mode": {
    "name": "ipython",
    "version": 3
   },
   "file_extension": ".py",
   "mimetype": "text/x-python",
   "name": "python",
   "nbconvert_exporter": "python",
   "pygments_lexer": "ipython3",
   "version": "3.9.7"
  },
  "orig_nbformat": 4
 },
 "nbformat": 4,
 "nbformat_minor": 2
}
