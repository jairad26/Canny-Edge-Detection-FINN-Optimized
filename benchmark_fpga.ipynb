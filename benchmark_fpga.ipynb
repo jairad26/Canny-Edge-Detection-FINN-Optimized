{
 "cells": [
  {
   "cell_type": "code",
   "execution_count": 1,
   "id": "d5d01607",
   "metadata": {},
   "outputs": [],
   "source": [
    "import cv2\n",
    "import numpy as np\n",
    "from scipy import ndimage\n",
    "import scipy\n",
    "from scipy import ndimage\n",
    "import imageio\n",
    "import time\n",
    "import numpy as np\n",
    "from PIL import Image\n",
    "import matplotlib.pyplot as plt\n",
    "import matplotlib.pyplot as plt\n",
    "from numpy import array, zeros, abs, sqrt, arctan2, arctan, pi, real\n",
    "from numpy.fft import fft2, ifft2"
   ]
  },
  {
   "cell_type": "code",
   "execution_count": 2,
   "id": "6d2b64bd",
   "metadata": {},
   "outputs": [],
   "source": [
    "def to_shape(a, shape):\n",
    "    b = np.zeros(shape)\n",
    "    b[:a.shape[0], :a.shape[1]] = a\n",
    "    return b\n",
    "\n",
    "\n",
    "# non max suppression from https://github.com/fatihsennik/OpenCV-Canny-Edge-Detection/tree/master/code bc no existing function in opencv/scipy\n",
    "def nonmax_suppression(det, phase):\n",
    "    gmax = zeros(det.shape)\n",
    "    for i in range(gmax.shape[0]):\n",
    "        for j in range(gmax.shape[1]):\n",
    "            if phase[i][j] < 0:\n",
    "                phase[i][j] += 360\n",
    "\n",
    "            if ((j + 1) < gmax.shape[1]) and ((j - 1) >= 0) and ((i + 1) < gmax.shape[0]) and ((i - 1) >= 0):\n",
    "                # 0 degrees\n",
    "                if (phase[i][j] >= 337.5 or phase[i][j] < 22.5) or (phase[i][j] >= 157.5 and phase[i][j] < 202.5):\n",
    "                    if det[i][j] >= det[i][j + 1] and det[i][j] >= det[i][j - 1]:\n",
    "                        gmax[i][j] = det[i][j]\n",
    "                # 45 degrees\n",
    "                if (phase[i][j] >= 22.5 and phase[i][j] < 67.5) or (phase[i][j] >= 202.5 and phase[i][j] < 247.5):\n",
    "                    if det[i][j] >= det[i - 1][j + 1] and det[i][j] >= det[i + 1][j - 1]:\n",
    "                        gmax[i][j] = det[i][j]\n",
    "                # 90 degrees\n",
    "                if (phase[i][j] >= 67.5 and phase[i][j] < 112.5) or (phase[i][j] >= 247.5 and phase[i][j] < 292.5):\n",
    "                    if det[i][j] >= det[i - 1][j] and det[i][j] >= det[i + 1][j]:\n",
    "                        gmax[i][j] = det[i][j]\n",
    "                # 135 degrees\n",
    "                if (phase[i][j] >= 112.5 and phase[i][j] < 157.5) or (phase[i][j] >= 292.5 and phase[i][j] < 337.5):\n",
    "                    if det[i][j] >= det[i - 1][j - 1] and det[i][j] >= det[i + 1][j + 1]:\n",
    "                        gmax[i][j] = det[i][j]\n",
    "    return gmax\n",
    "from scipy import signal\n",
    "def nonmax_suppression_conv(det, phase):\n",
    "    kernel = { \n",
    "        'up': [[0,-1,0],[0,1,0],[0,0,0]],\n",
    "        'down': [[0,0,0],[0,1,0],[0,-1,0]],\n",
    "        'left': [[0,0,0],[-1,1,0],[0,0,0]],\n",
    "        'right': [[0,0,0],[0,1,-1],[0,0,0]],\n",
    "        'up_left': [[-1,0,0],[0,1,0],[0,0,0]],\n",
    "        'down_left': [[0,0,0],[0,1,0],[-1,0,0]],\n",
    "        'up_right': [[0,0,-1],[0,1,0],[0,0,0]],\n",
    "        'down_right': [[0,0,0],[0,1,0],[0,0,-1]],\n",
    "    }\n",
    "\n",
    "    phase[ phase < 0 ] += 360\n",
    "\n",
    "    output = np.zeros(phase.shape)\n",
    "    # print(phase.shape)\n",
    "\n",
    "    output = np.logical_and ( np.greater(signal.convolve2d(det, kernel['left'],mode='same'), 0), np.greater(scipy.signal.convolve2d(det, kernel['right'],mode='same'), 0), where=(phase >= 337.5) | (phase < 22.5) | ((phase >= 157.5) & (phase < 202.5))) \\\n",
    "    | np.logical_and ( np.greater(signal.convolve2d(det, kernel['down_left'],mode='same'), 0), np.greater(scipy.signal.convolve2d(det, kernel['up_right'],mode='same'), 0), where=((phase >= 22.5) & (phase < 67.5)) | ((phase >= 202.5) & (phase < 247.5))) \\\n",
    "    | np.logical_and ( np.greater(signal.convolve2d(det, kernel['up'],mode='same'), 0), np.greater(scipy.signal.convolve2d(det, kernel['down'],mode='same'), 0), where=((phase >= 67.5) & (phase < 112.5)) | ((phase >= 247.5) & (phase < 292.5))) \\\n",
    "    | np.logical_and ( np.greater(signal.convolve2d(det, kernel['up_left'],mode='same'), 0), np.greater(scipy.signal.convolve2d(det, kernel['down_right'],mode='same'), 0), where=((phase >= 112.5) & (phase < 157.5)) | ((phase >= 292.5) & (phase < 337.5)))\n",
    "\n",
    "    return np.where(output, det, 0)"
   ]
  },
  {
   "cell_type": "code",
   "execution_count": 3,
   "id": "188511e6",
   "metadata": {},
   "outputs": [
    {
     "name": "stdout",
     "output_type": "stream",
     "text": [
      "0.05893135070800781\n"
     ]
    }
   ],
   "source": [
    "start = time.time()\n",
    "frame = cv2.imread(\"small.jpeg\")\n",
    "canny = cv2.Canny(frame, 100, 110)\n",
    "sigma = 7\n",
    "    # frame2 = cv2.medianBlur(frame, sigma)\n",
    "frame2 = cv2.GaussianBlur(frame, (sigma,sigma), 0)\n",
    "im = frame2.astype('int32')\n",
    "end = time.time()\n",
    "\n",
    "print(end-start)"
   ]
  },
  {
   "cell_type": "code",
   "execution_count": 4,
   "id": "e02eb5be",
   "metadata": {},
   "outputs": [
    {
     "name": "stdout",
     "output_type": "stream",
     "text": [
      "0.12764239311218262\n"
     ]
    }
   ],
   "source": [
    "start = time.time()\n",
    "\n",
    "horizontal = np.array([[-1, 0, 1], [-2, 0, 2], [-1, 0, 1]])  # s2\n",
    "vertical = np.array([[-1, -2, -1], [0, 0, 0], [1, 2, 1]])  # s1\n",
    "gray_img = np.round(0.299 * im[:, :, 0] +\n",
    "                    0.587 * im[:, :, 1] +\n",
    "                    0.114 * im[:, :, 2]).astype(np.uint8)\n",
    "\n",
    "img_fft = np.fft.fft2(gray_img)\n",
    "horizontal_kernel_fft =  np.fft.fft2(to_shape(horizontal, gray_img.shape))\n",
    "vertical_kernel_fft =  np.fft.fft2(to_shape(vertical, gray_img.shape) )\n",
    "\n",
    "\n",
    "newverticalImage = real(np.fft.ifft2( img_fft * vertical_kernel_fft )).astype(float)\n",
    "newhorizontalImage = real(np.fft.ifft2( img_fft * horizontal_kernel_fft )).astype(float)\n",
    "\n",
    "    \n",
    "\n",
    "sobel_fft = abs( np.sqrt(pow(newverticalImage, 2) + pow(newhorizontalImage, 2)) ).astype(float)\n",
    "angle = arctan2(newverticalImage, newhorizontalImage) * 180 / pi\n",
    "       \n",
    "sobel_fft[sobel_fft<max(sobel_fft.flatten())*.05] = 0\n",
    "sobel_non_max = nonmax_suppression_conv(sobel_fft, angle)\n",
    "end = time.time()\n",
    "\n",
    "print(end-start)"
   ]
  },
  {
   "cell_type": "code",
   "execution_count": 5,
   "id": "b9eebd7d",
   "metadata": {},
   "outputs": [
    {
     "name": "stdout",
     "output_type": "stream",
     "text": [
      "0.0735170841217041\n"
     ]
    }
   ],
   "source": [
    "start = time.time()\n",
    "\n",
    "horizontal = np.array([[-1, 0, 1], [-1, 0, 1], [-1, 0, 1]])  # s2\n",
    "vertical = np.array([[-1, -1, -1], [0, 0, 0], [1, 1, 1]])  # s1\n",
    "gray_img = np.round(0.299 * im[:, :, 0] +\n",
    "                    0.587 * im[:, :, 1] +\n",
    "                    0.114 * im[:, :, 2]).astype(np.uint8)\n",
    "\n",
    "img_fft = np.fft.fft2(gray_img)\n",
    "horizontal_kernel_fft =  np.fft.fft2(to_shape(horizontal, gray_img.shape))\n",
    "vertical_kernel_fft =  np.fft.fft2(to_shape(vertical, gray_img.shape) )\n",
    "\n",
    "\n",
    "newverticalImage = real(np.fft.ifft2( img_fft * vertical_kernel_fft )).astype(float)\n",
    "newhorizontalImage = real(np.fft.ifft2( img_fft * horizontal_kernel_fft )).astype(float)\n",
    "\n",
    "\n",
    "prewitt_fft = abs( np.sqrt(pow(newverticalImage, 2) + pow(newhorizontalImage, 2)) ).astype(float)\n",
    "angle = arctan2(newverticalImage, newhorizontalImage) * 180 / pi\n",
    "    # prewitt_fft = nonmax_suppression(prewitt_fft, angle)\n",
    "\n",
    "    \n",
    "prewitt_fft = prewitt_fft.astype(np.uint8)\n",
    "    # prewitt_fft = cv2.adaptiveThreshold(prewitt_fft,255,cv2.ADAPTIVE_THRESH_GAUSSIAN_C,\n",
    "    #                                 cv2.THRESH_BINARY_INV,7,10)\n",
    "    \n",
    "    # prewitt_fft = 255-prewitt_fft\n",
    "prewitt_fft[prewitt_fft<max(prewitt_fft.flatten())*.1] = 0\n",
    "end = time.time()\n",
    "\n",
    "print(end-start)"
   ]
  },
  {
   "cell_type": "code",
   "execution_count": 6,
   "id": "aabbc272",
   "metadata": {},
   "outputs": [
    {
     "name": "stdout",
     "output_type": "stream",
     "text": [
      "0.07538819313049316\n"
     ]
    }
   ],
   "source": [
    "start = time.time()\n",
    "\n",
    "horizontal = np.array([[0, 1, 0], [1, -4, 1], [0, 1, 0]]) #positive laplachian\n",
    "    # horizontal = np.array([[0, -1, 0], [-1, 4, -1], [0, -1, 0]]) #negative laplachian\n",
    "vertical = np.array([[-1, -1, -1], [-1, 8, -1], [-1, -1, -1]]) \n",
    "gray_img = np.round(0.299 * im[:, :, 0] +\n",
    "                    0.587 * im[:, :, 1] +\n",
    "                    0.114 * im[:, :, 2]).astype(np.uint8)\n",
    "\n",
    "img_fft = np.fft.fft2(gray_img)\n",
    "horizontal_kernel_fft =  np.fft.fft2(to_shape(horizontal, gray_img.shape))\n",
    "vertical_kernel_fft =  np.fft.fft2(to_shape(vertical, gray_img.shape) )\n",
    "\n",
    "\n",
    "newverticalImage = real(np.fft.ifft2( img_fft * vertical_kernel_fft )).astype(float)\n",
    "newhorizontalImage = real(np.fft.ifft2( img_fft * horizontal_kernel_fft )).astype(float)\n",
    "\n",
    "\n",
    "laplachian_fft = abs( np.sqrt(pow(newverticalImage, 2) + pow(newhorizontalImage, 2)) ).astype(float)\n",
    "angle = arctan2(newverticalImage, newhorizontalImage) * 180 / pi\n",
    "    # laplachian_fft = nonmax_suppression(laplachian_fft, angle)\n",
    "\n",
    "    \n",
    "laplachian_fft = laplachian_fft.astype(np.uint8)\n",
    "\n",
    "    # laplachian_fft = cv2.adaptiveThreshold(laplachian_fft,255,cv2.ADAPTIVE_THRESH_GAUSSIAN_C,\n",
    "    #                                 cv2.THRESH_BINARY_INV,7,10)\n",
    "    \n",
    "    # laplachian_fft = 255-prewitt_fft\n",
    "laplachian_fft[laplachian_fft<max(laplachian_fft.flatten())*.007] = 0\n",
    "end = time.time()\n",
    "\n",
    "print(end-start)"
   ]
  },
  {
   "cell_type": "code",
   "execution_count": 7,
   "id": "922bc675",
   "metadata": {},
   "outputs": [
    {
     "data": {
      "text/plain": [
       "True"
      ]
     },
     "execution_count": 7,
     "metadata": {},
     "output_type": "execute_result"
    }
   ],
   "source": [
    "cv2.imwrite(\"normal.jpeg\", frame)\n",
    "    # cv2.imshow(\"edge detection sobel\", sobel_fft)\n",
    "cv2.imwrite(\"sobel.jpeg\", sobel_non_max)\n",
    "cv2.imwrite(\"prewitt.jpeg\", prewitt_fft)\n",
    "cv2.imwrite(\"laplachian.jpeg\", laplachian_fft)\n",
    "    #cv2.imshow(\"edge detection sobel and laplachian\", laplachian_fft)\n",
    "\n",
    "   # cv2.imshow(\"morphological edge out\", morph)\n",
    "cv2.imwrite(\"canny.jpeg\", canny)"
   ]
  },
  {
   "cell_type": "code",
   "execution_count": 21,
   "id": "20bd81f1",
   "metadata": {},
   "outputs": [],
   "source": [
    "import numpy as np \n",
    "import cv2\n",
    "import time\n",
    "from pynq import Overlay\n",
    "import pynq.lib.dma\n",
    "from pynq import allocate\n",
    "import random\n",
    "import matplotlib.pyplot as plt\n",
    "import time\n",
    "\n",
    "OVERLAY = './canny_dma.bit'"
   ]
  },
  {
   "cell_type": "code",
   "execution_count": 22,
   "id": "04f6512b",
   "metadata": {},
   "outputs": [],
   "source": [
    "ol = Overlay(OVERLAY)\n",
    "dma = ol.axi_dma_0\n",
    "\n",
    "in_buffer = allocate(shape=(100,100), dtype=np.uint8)\n",
    "out_buffer = allocate(shape=(100,100), dtype=np.uint8)\n",
    "#CREATE CONTIGOUS MEMORY ALLOCATED BUFFERS THROUGH XLNK"
   ]
  },
  {
   "cell_type": "code",
   "execution_count": 23,
   "id": "43674254",
   "metadata": {},
   "outputs": [
    {
     "data": {
      "text/plain": [
       "100"
      ]
     },
     "execution_count": 23,
     "metadata": {},
     "output_type": "execute_result"
    }
   ],
   "source": [
    "from pynq import MMIO\n",
    "ip = MMIO(0x43C00000,0x10000)\n",
    "ip.write(0x10 , 150 % 256)\n",
    "ip.write(0x18,100 % 256)\n",
    "ip.read(0x10)\n",
    "ip.read(0x18)\n",
    "#SET THE REGISTER'S VALUES OF HYSTHERESIS "
   ]
  },
  {
   "cell_type": "code",
   "execution_count": 24,
   "id": "1aaabd56",
   "metadata": {},
   "outputs": [],
   "source": [
    "img = cv2.imread('./small.jpg', 1)\n",
    "img = cv2.cvtColor(img, cv2.COLOR_BGR2GRAY)\n",
    "#LOAD THE IMAGE AND CONVERT TO GRAY"
   ]
  },
  {
   "cell_type": "code",
   "execution_count": null,
   "id": "15c1f8e1",
   "metadata": {},
   "outputs": [],
   "source": [
    "dma.sendchannel.start()\n",
    "dma.recvchannel.start()\n",
    "#START THE DMA"
   ]
  },
  {
   "cell_type": "code",
   "execution_count": null,
   "id": "a29ea7f1",
   "metadata": {},
   "outputs": [],
   "source": [
    "img = cv2.imread('./small.jpg', 1)\n",
    "img = cv2.cvtColor(img, cv2.COLOR_BGR2GRAY)\n",
    "np.copyto(in_buffer,img)\n",
    "\n",
    "t = time.time()\n",
    "\n",
    "dma.sendchannel.transfer(in_buffer)\n",
    "\n",
    "dma.recvchannel.transfer(out_buffer)\n",
    "\n",
    "print(time.time() - t)\n",
    "#EXECUTE THE TRANSFER FROM PS --> PL AND PL --> PS"
   ]
  },
  {
   "cell_type": "code",
   "execution_count": 27,
   "id": "411129bc",
   "metadata": {},
   "outputs": [
    {
     "data": {
      "text/plain": [
       "<matplotlib.image.AxesImage at 0x9f920820>"
      ]
     },
     "execution_count": 27,
     "metadata": {},
     "output_type": "execute_result"
    },
    {
     "data": {
      "image/png": "[encoded data removed]",
      "text/plain": [
       "<Figure size 432x288 with 1 Axes>"
      ]
     },
     "metadata": {
      "needs_background": "light"
     },
     "output_type": "display_data"
    }
   ],
   "source": [
    "plt.imshow(out_buffer, cmap='gray')"
   ]
  },
  {
   "cell_type": "code",
   "execution_count": null,
   "id": "82e815d7",
   "metadata": {},
   "outputs": [],
   "source": []
  }
 ],
 "metadata": {
  "kernelspec": {
   "display_name": "Python 3",
   "language": "python",
   "name": "python3"
  },
  "language_info": {
   "codemirror_mode": {
    "name": "ipython",
    "version": 3
   },
   "file_extension": ".py",
   "mimetype": "text/x-python",
   "name": "python",
   "nbconvert_exporter": "python",
   "pygments_lexer": "ipython3",
   "version": "3.8.2"
  }
 },
 "nbformat": 4,
 "nbformat_minor": 5
}
