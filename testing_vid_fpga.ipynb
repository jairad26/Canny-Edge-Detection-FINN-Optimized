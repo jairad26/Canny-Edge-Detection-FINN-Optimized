{
 "cells": [
  {
   "cell_type": "code",
   "execution_count": 9,
   "metadata": {},
   "outputs": [],
   "source": [
    "import cv2\n",
    "import numpy as np\n",
    "from scipy import ndimage\n",
    "import scipy\n",
    "from scipy import ndimage\n",
    "import imageio\n",
    "import time\n",
    "import numpy as np\n",
    "from PIL import Image\n",
    "import matplotlib.pyplot as plt\n",
    "import matplotlib.pyplot as plt\n",
    "from numpy import array, zeros, abs, sqrt, arctan2, arctan, pi, real\n",
    "from numpy.fft import fft2, ifft2\n",
    "from pynq.overlays.base import BaseOverlay\n",
    "from pynq.lib.video import *\n",
    "# base = BaseOverlay(\"base.bit\")\n",
    "import numpy as np \n",
    "import cv2\n",
    "import time\n",
    "from pynq import Overlay\n",
    "import pynq.lib.dma\n",
    "from pynq import allocate\n",
    "import random\n",
    "import matplotlib.pyplot as plt\n",
    "import time\n",
    "\n",
    "OVERLAY = './canny_dma.bit'"
   ]
  },
  {
   "cell_type": "code",
   "execution_count": null,
   "metadata": {},
   "outputs": [],
   "source": [
    "# Mode = VideoMode(640,480,24)\n",
    "# hdmi_out = base.video.hdmi_out\n",
    "# hdmi_out.configure(Mode,PIXEL_BGR)\n",
    "# hdmi_out.start()\n",
    "\n",
    "\n"
   ]
  },
  {
   "cell_type": "code",
   "execution_count": 10,
   "metadata": {},
   "outputs": [],
   "source": [
    "# camera (input) configuration\n",
    "frame_in_w = 640\n",
    "frame_in_h = 480\n",
    "videoIn = cv2.VideoCapture(0)\n",
    "videoIn.set(cv2.CAP_PROP_FRAME_WIDTH, frame_in_w);\n",
    "videoIn.set(cv2.CAP_PROP_FRAME_HEIGHT, frame_in_h);\n",
    "check, frame = videoIn.read()\n"
   ]
  },
  {
   "cell_type": "code",
   "execution_count": 12,
   "metadata": {},
   "outputs": [],
   "source": [
    "def to_shape(a, shape):\n",
    "    b = np.zeros(shape)\n",
    "    b[:a.shape[0], :a.shape[1]] = a\n",
    "    return b\n",
    "\n",
    "\n",
    "# non max suppression from https://github.com/fatihsennik/OpenCV-Canny-Edge-Detection/tree/master/code bc no existing function in opencv/scipy\n",
    "def nonmax_suppression(det, phase):\n",
    "    gmax = zeros(det.shape)\n",
    "    for i in range(gmax.shape[0]):\n",
    "        for j in range(gmax.shape[1]):\n",
    "            if phase[i][j] < 0:\n",
    "                phase[i][j] += 360\n",
    "\n",
    "            if ((j + 1) < gmax.shape[1]) and ((j - 1) >= 0) and ((i + 1) < gmax.shape[0]) and ((i - 1) >= 0):\n",
    "                # 0 degrees\n",
    "                if (phase[i][j] >= 337.5 or phase[i][j] < 22.5) or (phase[i][j] >= 157.5 and phase[i][j] < 202.5):\n",
    "                    if det[i][j] >= det[i][j + 1] and det[i][j] >= det[i][j - 1]:\n",
    "                        gmax[i][j] = det[i][j]\n",
    "                # 45 degrees\n",
    "                if (phase[i][j] >= 22.5 and phase[i][j] < 67.5) or (phase[i][j] >= 202.5 and phase[i][j] < 247.5):\n",
    "                    if det[i][j] >= det[i - 1][j + 1] and det[i][j] >= det[i + 1][j - 1]:\n",
    "                        gmax[i][j] = det[i][j]\n",
    "                # 90 degrees\n",
    "                if (phase[i][j] >= 67.5 and phase[i][j] < 112.5) or (phase[i][j] >= 247.5 and phase[i][j] < 292.5):\n",
    "                    if det[i][j] >= det[i - 1][j] and det[i][j] >= det[i + 1][j]:\n",
    "                        gmax[i][j] = det[i][j]\n",
    "                # 135 degrees\n",
    "                if (phase[i][j] >= 112.5 and phase[i][j] < 157.5) or (phase[i][j] >= 292.5 and phase[i][j] < 337.5):\n",
    "                    if det[i][j] >= det[i - 1][j - 1] and det[i][j] >= det[i + 1][j + 1]:\n",
    "                        gmax[i][j] = det[i][j]\n",
    "    return gmax\n",
    "from scipy import signal\n",
    "def nonmax_suppression_conv(det, phase):\n",
    "    kernel = { \n",
    "        'up': [[0,-1,0],[0,1,0],[0,0,0]],\n",
    "        'down': [[0,0,0],[0,1,0],[0,-1,0]],\n",
    "        'left': [[0,0,0],[-1,1,0],[0,0,0]],\n",
    "        'right': [[0,0,0],[0,1,-1],[0,0,0]],\n",
    "        'up_left': [[-1,0,0],[0,1,0],[0,0,0]],\n",
    "        'down_left': [[0,0,0],[0,1,0],[-1,0,0]],\n",
    "        'up_right': [[0,0,-1],[0,1,0],[0,0,0]],\n",
    "        'down_right': [[0,0,0],[0,1,0],[0,0,-1]],\n",
    "    }\n",
    "\n",
    "    phase[ phase < 0 ] += 360\n",
    "\n",
    "    output = np.zeros(phase.shape)\n",
    "    print(phase.shape)\n",
    "\n",
    "    output = np.logical_and ( np.greater(signal.convolve2d(det, kernel['left'],mode='same'), 0), np.greater(scipy.signal.convolve2d(det, kernel['right'],mode='same'), 0), where=(phase >= 337.5) | (phase < 22.5) | ((phase >= 157.5) & (phase < 202.5))) \\\n",
    "    | np.logical_and ( np.greater(signal.convolve2d(det, kernel['down_left'],mode='same'), 0), np.greater(scipy.signal.convolve2d(det, kernel['up_right'],mode='same'), 0), where=((phase >= 22.5) & (phase < 67.5)) | ((phase >= 202.5) & (phase < 247.5))) \\\n",
    "    | np.logical_and ( np.greater(signal.convolve2d(det, kernel['up'],mode='same'), 0), np.greater(scipy.signal.convolve2d(det, kernel['down'],mode='same'), 0), where=((phase >= 67.5) & (phase < 112.5)) | ((phase >= 247.5) & (phase < 292.5))) \\\n",
    "    | np.logical_and ( np.greater(signal.convolve2d(det, kernel['up_left'],mode='same'), 0), np.greater(scipy.signal.convolve2d(det, kernel['down_right'],mode='same'), 0), where=((phase >= 112.5) & (phase < 157.5)) | ((phase >= 292.5) & (phase < 337.5)))\n",
    "\n",
    "    return np.where(output, det, 0)"
   ]
  },
  {
   "cell_type": "code",
   "execution_count": 20,
   "metadata": {},
   "outputs": [
    {
     "name": "stdout",
     "output_type": "stream",
     "text": [
      "capture device is open: True\n",
      "(480, 640)\n",
      "0.0011162757873535156\n"
     ]
    },
    {
     "data": {
      "image/png": "[encoded data removed]",
      "text/plain": [
       "<Figure size 720x720 with 1 Axes>"
      ]
     },
     "metadata": {
      "needs_background": "light"
     },
     "output_type": "display_data"
    },
    {
     "name": "stdout",
     "output_type": "stream",
     "text": [
      "(480, 640)\n",
      "0.0009462833404541016\n"
     ]
    },
    {
     "data": {
      "image/png": "[encoded data removed]",
      "text/plain": [
       "<Figure size 432x288 with 1 Axes>"
      ]
     },
     "metadata": {
      "needs_background": "light"
     },
     "output_type": "display_data"
    },
    {
     "name": "stdout",
     "output_type": "stream",
     "text": [
      "(480, 640)\n",
      "0.0010061264038085938\n"
     ]
    },
    {
     "data": {
      "image/png": "[encoded data removed]",
      "text/plain": [
       "<Figure size 432x288 with 1 Axes>"
      ]
     },
     "metadata": {
      "needs_background": "light"
     },
     "output_type": "display_data"
    },
    {
     "name": "stdout",
     "output_type": "stream",
     "text": [
      "(480, 640)\n",
      "0.0010538101196289062\n"
     ]
    },
    {
     "data": {
      "image/png": "[encoded data removed]",
      "text/plain": [
       "<Figure size 432x288 with 1 Axes>"
      ]
     },
     "metadata": {
      "needs_background": "light"
     },
     "output_type": "display_data"
    },
    {
     "name": "stdout",
     "output_type": "stream",
     "text": [
      "(480, 640)\n",
      "0.0009324550628662109\n"
     ]
    },
    {
     "data": {
      "image/png": "[encoded data removed]",
      "text/plain": [
       "<Figure size 432x288 with 1 Axes>"
      ]
     },
     "metadata": {
      "needs_background": "light"
     },
     "output_type": "display_data"
    },
    {
     "name": "stdout",
     "output_type": "stream",
     "text": [
      "(480, 640)\n",
      "0.0010504722595214844\n"
     ]
    },
    {
     "data": {
      "image/png": "[encoded data removed]",
      "text/plain": [
       "<Figure size 432x288 with 1 Axes>"
      ]
     },
     "metadata": {
      "needs_background": "light"
     },
     "output_type": "display_data"
    },
    {
     "name": "stdout",
     "output_type": "stream",
     "text": [
      "(480, 640)\n",
      "0.0010340213775634766\n"
     ]
    },
    {
     "data": {
      "image/png": "[encoded data removed]",
      "text/plain": [
       "<Figure size 432x288 with 1 Axes>"
      ]
     },
     "metadata": {
      "needs_background": "light"
     },
     "output_type": "display_data"
    },
    {
     "name": "stdout",
     "output_type": "stream",
     "text": [
      "(480, 640)\n",
      "0.0010197162628173828\n"
     ]
    },
    {
     "data": {
      "image/png": "[encoded data removed]",
      "text/plain": [
       "<Figure size 432x288 with 1 Axes>"
      ]
     },
     "metadata": {
      "needs_background": "light"
     },
     "output_type": "display_data"
    },
    {
     "name": "stdout",
     "output_type": "stream",
     "text": [
      "(480, 640)\n",
      "0.0011322498321533203\n"
     ]
    },
    {
     "data": {
      "image/png": "[encoded data removed]",
      "text/plain": [
       "<Figure size 432x288 with 1 Axes>"
      ]
     },
     "metadata": {
      "needs_background": "light"
     },
     "output_type": "display_data"
    },
    {
     "name": "stdout",
     "output_type": "stream",
     "text": [
      "(480, 640)\n",
      "0.0010764598846435547\n"
     ]
    },
    {
     "data": {
      "image/png": "[encoded data removed]",
      "text/plain": [
       "<Figure size 432x288 with 1 Axes>"
      ]
     },
     "metadata": {
      "needs_background": "light"
     },
     "output_type": "display_data"
    },
    {
     "name": "stdout",
     "output_type": "stream",
     "text": [
      "(480, 640)\n",
      "0.0012018680572509766\n"
     ]
    },
    {
     "data": {
      "image/png": "[encoded data removed]",
      "text/plain": [
       "<Figure size 432x288 with 1 Axes>"
      ]
     },
     "metadata": {
      "needs_background": "light"
     },
     "output_type": "display_data"
    },
    {
     "name": "stdout",
     "output_type": "stream",
     "text": [
      "(480, 640)\n"
     ]
    },
    {
     "ename": "KeyboardInterrupt",
     "evalue": "",
     "output_type": "error",
     "traceback": [
      "\u001b[0;31m---------------------------------------------------------------------------\u001b[0m",
      "\u001b[0;31mKeyboardInterrupt\u001b[0m                         Traceback (most recent call last)",
      "\u001b[0;32m<ipython-input-20-65403555b454>\u001b[0m in \u001b[0;36m<module>\u001b[0;34m\u001b[0m\n\u001b[1;32m    145\u001b[0m \u001b[0;34m\u001b[0m\u001b[0m\n\u001b[1;32m    146\u001b[0m     \u001b[0mlaplachian_fft\u001b[0m \u001b[0;34m=\u001b[0m \u001b[0mabs\u001b[0m\u001b[0;34m(\u001b[0m \u001b[0mnp\u001b[0m\u001b[0;34m.\u001b[0m\u001b[0msqrt\u001b[0m\u001b[0;34m(\u001b[0m\u001b[0mpow\u001b[0m\u001b[0;34m(\u001b[0m\u001b[0mnewverticalImage\u001b[0m\u001b[0;34m,\u001b[0m \u001b[0;36m2\u001b[0m\u001b[0;34m)\u001b[0m \u001b[0;34m+\u001b[0m \u001b[0mpow\u001b[0m\u001b[0;34m(\u001b[0m\u001b[0mnewhorizontalImage\u001b[0m\u001b[0;34m,\u001b[0m \u001b[0;36m2\u001b[0m\u001b[0;34m)\u001b[0m\u001b[0;34m)\u001b[0m \u001b[0;34m)\u001b[0m\u001b[0;34m.\u001b[0m\u001b[0mastype\u001b[0m\u001b[0;34m(\u001b[0m\u001b[0mfloat\u001b[0m\u001b[0;34m)\u001b[0m\u001b[0;34m\u001b[0m\u001b[0;34m\u001b[0m\u001b[0m\n\u001b[0;32m--> 147\u001b[0;31m     \u001b[0mangle\u001b[0m \u001b[0;34m=\u001b[0m \u001b[0marctan2\u001b[0m\u001b[0;34m(\u001b[0m\u001b[0mnewverticalImage\u001b[0m\u001b[0;34m,\u001b[0m \u001b[0mnewhorizontalImage\u001b[0m\u001b[0;34m)\u001b[0m \u001b[0;34m*\u001b[0m \u001b[0;36m180\u001b[0m \u001b[0;34m/\u001b[0m \u001b[0mpi\u001b[0m\u001b[0;34m\u001b[0m\u001b[0;34m\u001b[0m\u001b[0m\n\u001b[0m\u001b[1;32m    148\u001b[0m     \u001b[0;31m# laplachian_fft = nonmax_suppression(laplachian_fft, angle)\u001b[0m\u001b[0;34m\u001b[0m\u001b[0;34m\u001b[0m\u001b[0;34m\u001b[0m\u001b[0m\n\u001b[1;32m    149\u001b[0m \u001b[0;34m\u001b[0m\u001b[0m\n",
      "\u001b[0;31mKeyboardInterrupt\u001b[0m: "
     ]
    }
   ],
   "source": [
    "videoIn = cv2.VideoCapture(0)\n",
    "videoIn.set(cv2.CAP_PROP_FRAME_WIDTH, frame_in_w);\n",
    "videoIn.set(cv2.CAP_PROP_FRAME_HEIGHT, frame_in_h);\n",
    "print(\"capture device is open: \" + str(videoIn.isOpened()))\n",
    " \n",
    "# Infinite while loop to treat stack of image as video\n",
    "# plt.ion()\n",
    "\n",
    "fig = plt.figure(1, figsize=(10, 10))\n",
    "ax = fig.add_subplot()\n",
    "# check, frame = videoIn.read()\n",
    "# im1 = ax.imshow(frame)\n",
    "# plt.show()\n",
    "while True:\n",
    "#     check, frame = video.read()\n",
    "    check, frame = videoIn.read()\n",
    "    \n",
    "    if (not check):\n",
    "        print(check)\n",
    "        raise RuntimeError(\"Error while reading from camera.\")\n",
    "    \n",
    "    # im = scipy.signal.medfilt2d(im)\n",
    "    # im = skimage.filters.gaussian(im, sigma=(sigma, sigma), multichannel=True)\n",
    "\n",
    "\n",
    "    # #sobel operator\n",
    "    # # Reading frame(image) from video\n",
    "    # im = frame.astype('int32')\n",
    "    # # im = frame.astype('int32')\n",
    "    # dx = ndimage.sobel(im, 0) # horizontal deriv\n",
    "    # dy = ndimage.sobel(im, 1) # vertical deriv\n",
    "    # mag = np.hypot(dx, dy) # magnitude\n",
    "    # mag *= 255.0/np.max(mag) #normalize\n",
    "\n",
    "    ###############################################\n",
    "    # Morphological edge out\n",
    "    gray = cv2.cvtColor(frame, cv2.COLOR_BGR2GRAY)\n",
    "    threshold = cv2.threshold(gray, 180, 255, cv2.THRESH_BINARY)[1]\n",
    "    kernel = cv2.getStructuringElement(cv2.MORPH_RECT, (5,5))\n",
    "    dilate = cv2.morphologyEx(threshold, cv2.MORPH_DILATE, kernel)\n",
    "    morph = cv2.absdiff(dilate, threshold)   \n",
    "    ###############################################\n",
    "\n",
    "\n",
    "\n",
    "    ###############################################\n",
    "    # Canny Edge Detection        \n",
    "    # cv2.Canny(frame_webcam, 100, 110, edges=outframe)\n",
    "    canny = cv2.Canny(frame, 100, 110)\n",
    "    ###############################################\n",
    "\n",
    "\n",
    "    # noise reduction using median blur\n",
    "    sigma = 7\n",
    "    # frame2 = cv2.medianBlur(frame, sigma)\n",
    "    frame2 = cv2.GaussianBlur(frame, (sigma,sigma), 0)\n",
    "    im = frame2.astype('int32')\n",
    "    ###############################################\n",
    "    # Sobel Edge Detection\n",
    "    # define filters\n",
    "    horizontal = np.array([[-1, 0, 1], [-2, 0, 2], [-1, 0, 1]])  # s2\n",
    "    vertical = np.array([[-1, -2, -1], [0, 0, 0], [1, 2, 1]])  # s1\n",
    "    gray_img = np.round(0.299 * im[:, :, 0] +\n",
    "                    0.587 * im[:, :, 1] +\n",
    "                    0.114 * im[:, :, 2]).astype(np.uint8)\n",
    "\n",
    "    img_fft = np.fft.fft2(gray_img)\n",
    "    horizontal_kernel_fft =  np.fft.fft2(to_shape(horizontal, gray_img.shape))\n",
    "    vertical_kernel_fft =  np.fft.fft2(to_shape(vertical, gray_img.shape) )\n",
    "\n",
    "\n",
    "    newverticalImage = real(np.fft.ifft2( img_fft * vertical_kernel_fft )).astype(float)\n",
    "    newhorizontalImage = real(np.fft.ifft2( img_fft * horizontal_kernel_fft )).astype(float)\n",
    "\n",
    "    \n",
    "\n",
    "    sobel_fft = abs( np.sqrt(pow(newverticalImage, 2) + pow(newhorizontalImage, 2)) ).astype(float)\n",
    "    angle = arctan2(newverticalImage, newhorizontalImage) * 180 / pi\n",
    "       \n",
    "    sobel_fft[sobel_fft<max(sobel_fft.flatten())*.05] = 0\n",
    "    sobel_non_max = nonmax_suppression_conv(sobel_fft, angle)\n",
    "\n",
    "\n",
    "    # sobel_fft = sobel_fft.astype(np.uint8)\n",
    "\n",
    "    # sobel_fft = cv2.adaptiveThreshold(sobel_fft,255,cv2.ADAPTIVE_THRESH_GAUSSIAN_C,\n",
    "    #                                 cv2.THRESH_BINARY_INV,7,10)\n",
    " \n",
    "\n",
    "    ###############################################\n",
    "\n",
    "\n",
    "\n",
    "    ###############################################\n",
    "    # Prewitt Edge Detection\n",
    "    # define filters\n",
    "    horizontal = np.array([[-1, 0, 1], [-1, 0, 1], [-1, 0, 1]])  # s2\n",
    "    vertical = np.array([[-1, -1, -1], [0, 0, 0], [1, 1, 1]])  # s1\n",
    "    gray_img = np.round(0.299 * im[:, :, 0] +\n",
    "                    0.587 * im[:, :, 1] +\n",
    "                    0.114 * im[:, :, 2]).astype(np.uint8)\n",
    "\n",
    "    img_fft = np.fft.fft2(gray_img)\n",
    "    horizontal_kernel_fft =  np.fft.fft2(to_shape(horizontal, gray_img.shape))\n",
    "    vertical_kernel_fft =  np.fft.fft2(to_shape(vertical, gray_img.shape) )\n",
    "\n",
    "\n",
    "    newverticalImage = real(np.fft.ifft2( img_fft * vertical_kernel_fft )).astype(float)\n",
    "    newhorizontalImage = real(np.fft.ifft2( img_fft * horizontal_kernel_fft )).astype(float)\n",
    "\n",
    "\n",
    "    prewitt_fft = abs( np.sqrt(pow(newverticalImage, 2) + pow(newhorizontalImage, 2)) ).astype(float)\n",
    "    angle = arctan2(newverticalImage, newhorizontalImage) * 180 / pi\n",
    "    # prewitt_fft = nonmax_suppression(prewitt_fft, angle)\n",
    "\n",
    "    \n",
    "    prewitt_fft = prewitt_fft.astype(np.uint8)\n",
    "\n",
    "    # prewitt_fft = cv2.adaptiveThreshold(prewitt_fft,255,cv2.ADAPTIVE_THRESH_GAUSSIAN_C,\n",
    "    #                                 cv2.THRESH_BINARY_INV,7,10)\n",
    "    \n",
    "    # prewitt_fft = 255-prewitt_fft\n",
    "    prewitt_fft[prewitt_fft<max(prewitt_fft.flatten())*.1] = 0\n",
    "    ###############################################\n",
    "\n",
    "\n",
    "    ###############################################\n",
    "    # Laplachian Edge Detection\n",
    "    # define filters\n",
    "    horizontal = np.array([[0, 1, 0], [1, -4, 1], [0, 1, 0]]) #positive laplachian\n",
    "    # horizontal = np.array([[0, -1, 0], [-1, 4, -1], [0, -1, 0]]) #negative laplachian\n",
    "    vertical = np.array([[-1, -1, -1], [-1, 8, -1], [-1, -1, -1]]) \n",
    "    gray_img = np.round(0.299 * im[:, :, 0] +\n",
    "                    0.587 * im[:, :, 1] +\n",
    "                    0.114 * im[:, :, 2]).astype(np.uint8)\n",
    "\n",
    "    img_fft = np.fft.fft2(gray_img)\n",
    "    horizontal_kernel_fft =  np.fft.fft2(to_shape(horizontal, gray_img.shape))\n",
    "    vertical_kernel_fft =  np.fft.fft2(to_shape(vertical, gray_img.shape) )\n",
    "\n",
    "\n",
    "    newverticalImage = real(np.fft.ifft2( img_fft * vertical_kernel_fft )).astype(float)\n",
    "    newhorizontalImage = real(np.fft.ifft2( img_fft * horizontal_kernel_fft )).astype(float)\n",
    "\n",
    "\n",
    "    laplachian_fft = abs( np.sqrt(pow(newverticalImage, 2) + pow(newhorizontalImage, 2)) ).astype(float)\n",
    "    angle = arctan2(newverticalImage, newhorizontalImage) * 180 / pi\n",
    "    # laplachian_fft = nonmax_suppression(laplachian_fft, angle)\n",
    "\n",
    "    \n",
    "    laplachian_fft = laplachian_fft.astype(np.uint8)\n",
    "\n",
    "    # laplachian_fft = cv2.adaptiveThreshold(laplachian_fft,255,cv2.ADAPTIVE_THRESH_GAUSSIAN_C,\n",
    "    #                                 cv2.THRESH_BINARY_INV,7,10)\n",
    "    \n",
    "    # laplachian_fft = 255-prewitt_fft\n",
    "    laplachian_fft[laplachian_fft<max(laplachian_fft.flatten())*.007] = 0\n",
    "    ###############################################\n",
    "    \n",
    "    ol = Overlay(OVERLAY)\n",
    "    dma = ol.axi_dma_0\n",
    "\n",
    "    in_buffer = allocate(shape=(100,100), dtype=np.uint8)\n",
    "    out_buffer = allocate(shape=(100,100), dtype=np.uint8)\n",
    "    #CREATE CONTIGOUS MEMORY ALLOCATED BUFFERS THROUGH XLNK\n",
    "    \n",
    "    from pynq import MMIO\n",
    "    ip = MMIO(0x43C00000,0x10000)\n",
    "    ip.write(0x10 , 150 % 256)\n",
    "    ip.write(0x18,100 % 256)\n",
    "    ip.read(0x10)\n",
    "    ip.read(0x18)\n",
    "    #SET THE REGISTER'S VALUES OF HYSTHERESIS \n",
    "    \n",
    "    dma.sendchannel.start()\n",
    "    dma.recvchannel.start()\n",
    "    #START THE DMA\n",
    "    \n",
    "    img = frame\n",
    "    img = cv2.cvtColor(img, cv2.COLOR_BGR2GRAY)\n",
    "    np.copyto(in_buffer,img[:100,:100])\n",
    "    time.sleep(1)\n",
    "    t = time.time()\n",
    "\n",
    "    dma.sendchannel.transfer(in_buffer)\n",
    "    dma.sendchannel.start()\n",
    "    dma.recvchannel.start()\n",
    "    dma.recvchannel.transfer(out_buffer)\n",
    "\n",
    "    print(time.time() - t)\n",
    "    #EXECUTE THE TRANSFER FROM PS --> PL AND PL --> PS\n",
    "    \n",
    "    plt.imshow(out_buffer, cmap='gray')\n",
    "\n",
    "#     cv2.imshow(\"canny edge detection\", canny)\n",
    "\n",
    "    \n",
    "#     cv2.imshow(\"normal frame\", frame)\n",
    "#     cv2.imshow(\"edge detection sobel\", sobel_fft)\n",
    "#     cv2.imshow(\"sobel non max\", sobel_non_max)\n",
    "    #cv2.imshow(\"edge detection prewitt\", prewitt_fft)\n",
    "   # cv2.imshow(\"edge detection laplachian\", laplachian_fft)\n",
    "    #cv2.imshow(\"edge detection sobel and laplachian\", laplachian_fft)\n",
    "\n",
    "   # cv2.imshow(\"morphological edge out\", morph)\n",
    "    frame_vga = np.zeros((480,640,3)).astype(np.uint8)\n",
    "    frame_vga[:,:,0] = sobel_fft\n",
    "    frame_vga[:,:,1] = sobel_fft\n",
    "    frame_vga[:,:,2] = sobel_fft\n",
    "    \n",
    "#     im1.set_data(frame_vga)\n",
    "    plt.imshow(frame_vga)\n",
    "    plt.show()\n",
    "        \n",
    "    key = cv2.waitKey(1)\n",
    "    if key == ord('q'):\n",
    "        break\n",
    "video.release()\n"
   ]
  },
  {
   "cell_type": "code",
   "execution_count": null,
   "metadata": {},
   "outputs": [],
   "source": [
    "import numpy as np \n",
    "import cv2\n",
    "import time\n",
    "from pynq import Overlay\n",
    "import pynq.lib.dma\n",
    "from pynq import allocate\n",
    "import random\n",
    "import matplotlib.pyplot as plt\n",
    "import time\n",
    "\n",
    "OVERLAY = 'PYNQ-Z2-IMPROC/IP/canny_dma.bit'"
   ]
  },
  {
   "cell_type": "code",
   "execution_count": null,
   "metadata": {},
   "outputs": [],
   "source": [
    "ol = Overlay(OVERLAY)\n",
    "dma = ol.axi_dma_0\n",
    "\n",
    "in_buffer = allocate(shape=(100,100), dtype=np.uint8)\n",
    "out_buffer = allocate(shape=(100,100), dtype=np.uint8)\n",
    "#CREATE CONTIGOUS MEMORY ALLOCATED BUFFERS THROUGH XLNK"
   ]
  },
  {
   "cell_type": "code",
   "execution_count": null,
   "metadata": {},
   "outputs": [],
   "source": []
  },
  {
   "cell_type": "code",
   "execution_count": null,
   "metadata": {},
   "outputs": [],
   "source": [
    "from pynq import MMIO\n",
    "ip = MMIO(0x43C00000,0x10000)\n",
    "ip.write(0x10 , 150 % 256)\n",
    "ip.write(0x18,100 % 256)\n",
    "ip.read(0x10)\n",
    "ip.read(0x18)\n",
    "#SET THE REGISTER'S VALUES OF HYSTHERESIS "
   ]
  },
  {
   "cell_type": "code",
   "execution_count": null,
   "metadata": {},
   "outputs": [],
   "source": [
    "dma.sendchannel.start()\n",
    "dma.recvchannel.start()\n",
    "#START THE DMA"
   ]
  },
  {
   "cell_type": "code",
   "execution_count": null,
   "metadata": {},
   "outputs": [],
   "source": [
    "img = cv2.imread('./small.jpg', 1)\n",
    "img = cv2.cvtColor(img, cv2.COLOR_BGR2GRAY)\n",
    "np.copyto(in_buffer,img)\n",
    "time.sleep(1)\n",
    "t = time.time()\n",
    "\n",
    "dma.sendchannel.transfer(in_buffer)\n",
    "dma.sendchannel.start()\n",
    "dma.recvchannel.start()\n",
    "dma.recvchannel.transfer(out_buffer)\n",
    "\n",
    "print(time.time() - t)\n",
    "#EXECUTE THE TRANSFER FROM PS --> PL AND PL --> PS"
   ]
  },
  {
   "cell_type": "code",
   "execution_count": null,
   "metadata": {},
   "outputs": [],
   "source": [
    "plt.imshow(out_buffer, cmap='gray')"
   ]
  },
  {
   "cell_type": "code",
   "execution_count": null,
   "metadata": {},
   "outputs": [],
   "source": []
  }
 ],
 "metadata": {
  "interpreter": {
   "hash": "c363bd452b4cd960c3544f6b5b319cd180a5fb23ba0f180b40c1c18a7f15ae61"
  },
  "kernelspec": {
   "display_name": "Python 3",
   "language": "python",
   "name": "python3"
  },
  "language_info": {
   "codemirror_mode": {
    "name": "ipython",
    "version": 3
   },
   "file_extension": ".py",
   "mimetype": "text/x-python",
   "name": "python",
   "nbconvert_exporter": "python",
   "pygments_lexer": "ipython3",
   "version": "3.9.7"
  }
 },
 "nbformat": 4,
 "nbformat_minor": 2
}
