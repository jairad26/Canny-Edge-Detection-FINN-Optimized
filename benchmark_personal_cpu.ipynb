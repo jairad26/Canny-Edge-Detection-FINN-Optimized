{
 "cells": [
  {
   "cell_type": "code",
   "execution_count": 1,
   "metadata": {},
   "outputs": [],
   "source": [
    "import cv2\n",
    "import numpy as np\n",
    "from scipy import ndimage\n",
    "import scipy\n",
    "from scipy import ndimage\n",
    "import imageio\n",
    "import time\n",
    "import numpy as np\n",
    "from PIL import Image\n",
    "import matplotlib.pyplot as plt\n",
    "import matplotlib.pyplot as plt\n",
    "from numpy import array, zeros, abs, sqrt, arctan2, arctan, pi, real\n",
    "from numpy.fft import fft2, ifft2"
   ]
  },
  {
   "cell_type": "code",
   "execution_count": 2,
   "metadata": {},
   "outputs": [],
   "source": [
    "def to_shape(a, shape):\n",
    "    b = np.zeros(shape)\n",
    "    b[:a.shape[0], :a.shape[1]] = a\n",
    "    return b\n",
    "\n",
    "\n",
    "# non max suppression from https://github.com/fatihsennik/OpenCV-Canny-Edge-Detection/tree/master/code bc no existing function in opencv/scipy\n",
    "def nonmax_suppression(det, phase):\n",
    "    gmax = zeros(det.shape)\n",
    "    for i in range(gmax.shape[0]):\n",
    "        for j in range(gmax.shape[1]):\n",
    "            if phase[i][j] < 0:\n",
    "                phase[i][j] += 360\n",
    "\n",
    "            if ((j + 1) < gmax.shape[1]) and ((j - 1) >= 0) and ((i + 1) < gmax.shape[0]) and ((i - 1) >= 0):\n",
    "                # 0 degrees\n",
    "                if (phase[i][j] >= 337.5 or phase[i][j] < 22.5) or (phase[i][j] >= 157.5 and phase[i][j] < 202.5):\n",
    "                    if det[i][j] >= det[i][j + 1] and det[i][j] >= det[i][j - 1]:\n",
    "                        gmax[i][j] = det[i][j]\n",
    "                # 45 degrees\n",
    "                if (phase[i][j] >= 22.5 and phase[i][j] < 67.5) or (phase[i][j] >= 202.5 and phase[i][j] < 247.5):\n",
    "                    if det[i][j] >= det[i - 1][j + 1] and det[i][j] >= det[i + 1][j - 1]:\n",
    "                        gmax[i][j] = det[i][j]\n",
    "                # 90 degrees\n",
    "                if (phase[i][j] >= 67.5 and phase[i][j] < 112.5) or (phase[i][j] >= 247.5 and phase[i][j] < 292.5):\n",
    "                    if det[i][j] >= det[i - 1][j] and det[i][j] >= det[i + 1][j]:\n",
    "                        gmax[i][j] = det[i][j]\n",
    "                # 135 degrees\n",
    "                if (phase[i][j] >= 112.5 and phase[i][j] < 157.5) or (phase[i][j] >= 292.5 and phase[i][j] < 337.5):\n",
    "                    if det[i][j] >= det[i - 1][j - 1] and det[i][j] >= det[i + 1][j + 1]:\n",
    "                        gmax[i][j] = det[i][j]\n",
    "    return gmax\n",
    "from scipy import signal\n",
    "def nonmax_suppression_conv(det, phase):\n",
    "    kernel = { \n",
    "        'up': [[0,-1,0],[0,1,0],[0,0,0]],\n",
    "        'down': [[0,0,0],[0,1,0],[0,-1,0]],\n",
    "        'left': [[0,0,0],[-1,1,0],[0,0,0]],\n",
    "        'right': [[0,0,0],[0,1,-1],[0,0,0]],\n",
    "        'up_left': [[-1,0,0],[0,1,0],[0,0,0]],\n",
    "        'down_left': [[0,0,0],[0,1,0],[-1,0,0]],\n",
    "        'up_right': [[0,0,-1],[0,1,0],[0,0,0]],\n",
    "        'down_right': [[0,0,0],[0,1,0],[0,0,-1]],\n",
    "    }\n",
    "\n",
    "    phase[ phase < 0 ] += 360\n",
    "\n",
    "    output = np.zeros(phase.shape)\n",
    "    # print(phase.shape)\n",
    "\n",
    "    output = np.logical_and ( np.greater(signal.convolve2d(det, kernel['left'],mode='same'), 0), np.greater(scipy.signal.convolve2d(det, kernel['right'],mode='same'), 0), where=(phase >= 337.5) | (phase < 22.5) | ((phase >= 157.5) & (phase < 202.5))) \\\n",
    "    | np.logical_and ( np.greater(signal.convolve2d(det, kernel['down_left'],mode='same'), 0), np.greater(scipy.signal.convolve2d(det, kernel['up_right'],mode='same'), 0), where=((phase >= 22.5) & (phase < 67.5)) | ((phase >= 202.5) & (phase < 247.5))) \\\n",
    "    | np.logical_and ( np.greater(signal.convolve2d(det, kernel['up'],mode='same'), 0), np.greater(scipy.signal.convolve2d(det, kernel['down'],mode='same'), 0), where=((phase >= 67.5) & (phase < 112.5)) | ((phase >= 247.5) & (phase < 292.5))) \\\n",
    "    | np.logical_and ( np.greater(signal.convolve2d(det, kernel['up_left'],mode='same'), 0), np.greater(scipy.signal.convolve2d(det, kernel['down_right'],mode='same'), 0), where=((phase >= 112.5) & (phase < 157.5)) | ((phase >= 292.5) & (phase < 337.5)))\n",
    "\n",
    "    return np.where(output, det, 0)"
   ]
  },
  {
   "cell_type": "code",
   "execution_count": 3,
   "metadata": {},
   "outputs": [
    {
     "name": "stdout",
     "output_type": "stream",
     "text": [
      "0.017004013061523438\n"
     ]
    }
   ],
   "source": [
    "\n",
    "frame = cv2.imread(\"small.jpeg\")\n",
    "\n",
    "start = time.time()\n",
    "# ###############################################\n",
    "#     # Morphological edge out\n",
    "# gray = cv2.cvtColor(frame, cv2.COLOR_BGR2GRAY)\n",
    "# threshold = cv2.threshold(gray, 180, 255, cv2.THRESH_BINARY)[1]\n",
    "# kernel = cv2.getStructuringElement(cv2.MORPH_RECT, (5,5))\n",
    "# dilate = cv2.morphologyEx(threshold, cv2.MORPH_DILATE, kernel)\n",
    "# morph = cv2.absdiff(dilate, threshold)   \n",
    "#     ###############################################\n",
    "\n",
    "\n",
    "\n",
    "    ###############################################\n",
    "    # Canny Edge Detection        \n",
    "    # cv2.Canny(frame_webcam, 100, 110, edges=outframe)\n",
    "canny = cv2.Canny(frame, 100, 110)\n",
    "    ###############################################\n",
    "\n",
    "\n",
    "    # noise reduction using median blur\n",
    "sigma = 13\n",
    "    # frame2 = cv2.medianBlur(frame, sigma)\n",
    "frame2 = cv2.GaussianBlur(frame, (sigma,sigma), 0)\n",
    "im = frame2.astype('int32')\n",
    "    ###############################################\n",
    "    # Sobel Edge Detection\n",
    "    # define filters\n",
    "\n",
    "\n",
    "    # sobel_fft = sobel_fft.astype(np.uint8)\n",
    "\n",
    "    # sobel_fft = cv2.adaptiveThreshold(sobel_fft,255,cv2.ADAPTIVE_THRESH_GAUSSIAN_C,\n",
    "    #                                 cv2.THRESH_BINARY_INV,7,10)\n",
    " \n",
    "\n",
    "    ###############################################\n",
    "\n",
    "\n",
    "\n",
    "    ###############################################\n",
    "    # Prewitt Edge Detection\n",
    "    # define filters\n",
    "\n",
    "    ###############################################\n",
    "\n",
    "\n",
    "    ###############################################\n",
    "    # Laplachian Edge Detection\n",
    "    # define filters\n",
    "\n",
    "    ###############################################\n",
    "\n",
    "\n",
    "\n",
    "\n",
    "end = time.time()\n",
    "\n",
    "print(end-start)"
   ]
  },
  {
   "cell_type": "code",
   "execution_count": 4,
   "metadata": {},
   "outputs": [
    {
     "name": "stdout",
     "output_type": "stream",
     "text": [
      "0.003638029098510742\n"
     ]
    }
   ],
   "source": [
    "start = time.time()\n",
    "\n",
    "horizontal = np.array([[-1, 0, 1], [-2, 0, 2], [-1, 0, 1]])  # s2\n",
    "vertical = np.array([[-1, -2, -1], [0, 0, 0], [1, 2, 1]])  # s1\n",
    "gray_img = np.round(0.299 * im[:, :, 0] +\n",
    "                    0.587 * im[:, :, 1] +\n",
    "                    0.114 * im[:, :, 2]).astype(np.uint8)\n",
    "\n",
    "img_fft = np.fft.fft2(gray_img)\n",
    "horizontal_kernel_fft =  np.fft.fft2(to_shape(horizontal, gray_img.shape))\n",
    "vertical_kernel_fft =  np.fft.fft2(to_shape(vertical, gray_img.shape) )\n",
    "\n",
    "\n",
    "newverticalImage = real(np.fft.ifft2( img_fft * vertical_kernel_fft )).astype(float)\n",
    "newhorizontalImage = real(np.fft.ifft2( img_fft * horizontal_kernel_fft )).astype(float)\n",
    "\n",
    "    \n",
    "\n",
    "sobel_fft = abs( np.sqrt(pow(newverticalImage, 2) + pow(newhorizontalImage, 2)) ).astype(float)\n",
    "angle = arctan2(newverticalImage, newhorizontalImage) * 180 / pi\n",
    "       \n",
    "sobel_fft[sobel_fft<max(sobel_fft.flatten())*.05] = 0\n",
    "sobel_non_max = sobel_fft\n",
    "# sobel_non_max = nonmax_suppression_conv(sobel_fft, angle)\n",
    "end = time.time()\n",
    "\n",
    "print(end-start)"
   ]
  },
  {
   "cell_type": "code",
   "execution_count": 5,
   "metadata": {},
   "outputs": [
    {
     "name": "stdout",
     "output_type": "stream",
     "text": [
      "0.0031249523162841797\n"
     ]
    }
   ],
   "source": [
    "start = time.time()\n",
    "\n",
    "horizontal = np.array([[-1, 0, 1], [-1, 0, 1], [-1, 0, 1]])  # s2\n",
    "vertical = np.array([[-1, -1, -1], [0, 0, 0], [1, 1, 1]])  # s1\n",
    "gray_img = np.round(0.299 * im[:, :, 0] +\n",
    "                    0.587 * im[:, :, 1] +\n",
    "                    0.114 * im[:, :, 2]).astype(np.uint8)\n",
    "\n",
    "img_fft = np.fft.fft2(gray_img)\n",
    "horizontal_kernel_fft =  np.fft.fft2(to_shape(horizontal, gray_img.shape))\n",
    "vertical_kernel_fft =  np.fft.fft2(to_shape(vertical, gray_img.shape) )\n",
    "\n",
    "\n",
    "newverticalImage = real(np.fft.ifft2( img_fft * vertical_kernel_fft )).astype(float)\n",
    "newhorizontalImage = real(np.fft.ifft2( img_fft * horizontal_kernel_fft )).astype(float)\n",
    "\n",
    "\n",
    "prewitt_fft = abs( np.sqrt(pow(newverticalImage, 2) + pow(newhorizontalImage, 2)) ).astype(float)\n",
    "angle = arctan2(newverticalImage, newhorizontalImage) * 180 / pi\n",
    "    # prewitt_fft = nonmax_suppression(prewitt_fft, angle)\n",
    "\n",
    "    \n",
    "prewitt_fft = prewitt_fft.astype(np.uint8)\n",
    "    # prewitt_fft = cv2.adaptiveThreshold(prewitt_fft,255,cv2.ADAPTIVE_THRESH_GAUSSIAN_C,\n",
    "    #                                 cv2.THRESH_BINARY_INV,7,10)\n",
    "    \n",
    "    # prewitt_fft = 255-prewitt_fft\n",
    "prewitt_fft[prewitt_fft<max(prewitt_fft.flatten())*.1] = 0\n",
    "end = time.time()\n",
    "\n",
    "print(end-start)"
   ]
  },
  {
   "cell_type": "code",
   "execution_count": 6,
   "metadata": {},
   "outputs": [
    {
     "name": "stdout",
     "output_type": "stream",
     "text": [
      "0.0030570030212402344\n"
     ]
    }
   ],
   "source": [
    "start = time.time()\n",
    "\n",
    "horizontal = np.array([[0, 1, 0], [1, -4, 1], [0, 1, 0]]) #positive laplachian\n",
    "    # horizontal = np.array([[0, -1, 0], [-1, 4, -1], [0, -1, 0]]) #negative laplachian\n",
    "vertical = np.array([[-1, -1, -1], [-1, 8, -1], [-1, -1, -1]]) \n",
    "gray_img = np.round(0.299 * im[:, :, 0] +\n",
    "                    0.587 * im[:, :, 1] +\n",
    "                    0.114 * im[:, :, 2]).astype(np.uint8)\n",
    "\n",
    "img_fft = np.fft.fft2(gray_img)\n",
    "horizontal_kernel_fft =  np.fft.fft2(to_shape(horizontal, gray_img.shape))\n",
    "vertical_kernel_fft =  np.fft.fft2(to_shape(vertical, gray_img.shape) )\n",
    "\n",
    "\n",
    "newverticalImage = real(np.fft.ifft2( img_fft * vertical_kernel_fft )).astype(float)\n",
    "newhorizontalImage = real(np.fft.ifft2( img_fft * horizontal_kernel_fft )).astype(float)\n",
    "\n",
    "\n",
    "laplachian_fft = abs( np.sqrt(pow(newverticalImage, 2) + pow(newhorizontalImage, 2)) ).astype(float)\n",
    "angle = arctan2(newverticalImage, newhorizontalImage) * 180 / pi\n",
    "    # laplachian_fft = nonmax_suppression(laplachian_fft, angle)\n",
    "\n",
    "    \n",
    "laplachian_fft = laplachian_fft.astype(np.uint8)\n",
    "\n",
    "    # laplachian_fft = cv2.adaptiveThreshold(laplachian_fft,255,cv2.ADAPTIVE_THRESH_GAUSSIAN_C,\n",
    "    #                                 cv2.THRESH_BINARY_INV,7,10)\n",
    "    \n",
    "    # laplachian_fft = 255-prewitt_fft\n",
    "laplachian_fft[laplachian_fft<max(laplachian_fft.flatten())*.007] = 0\n",
    "end = time.time()\n",
    "\n",
    "print(end-start)"
   ]
  },
  {
   "cell_type": "markdown",
   "metadata": {},
   "source": []
  },
  {
   "cell_type": "code",
   "execution_count": 7,
   "metadata": {},
   "outputs": [
    {
     "data": {
      "text/plain": [
       "True"
      ]
     },
     "execution_count": 7,
     "metadata": {},
     "output_type": "execute_result"
    }
   ],
   "source": [
    "cv2.imwrite(\"normal.jpeg\", frame)\n",
    "    # cv2.imshow(\"edge detection sobel\", sobel_fft)\n",
    "cv2.imwrite(\"sobel.jpeg\", sobel_non_max)\n",
    "cv2.imwrite(\"prewitt.jpeg\", prewitt_fft)\n",
    "cv2.imwrite(\"laplachian.jpeg\", laplachian_fft)\n",
    "    #cv2.imshow(\"edge detection sobel and laplachian\", laplachian_fft)\n",
    "\n",
    "   # cv2.imshow(\"morphological edge out\", morph)\n",
    "cv2.imwrite(\"canny.jpeg\", canny)"
   ]
  },
  {
   "cell_type": "code",
   "execution_count": null,
   "metadata": {},
   "outputs": [],
   "source": []
  },
  {
   "cell_type": "code",
   "execution_count": null,
   "metadata": {},
   "outputs": [],
   "source": []
  },
  {
   "cell_type": "code",
   "execution_count": null,
   "metadata": {},
   "outputs": [],
   "source": []
  },
  {
   "cell_type": "code",
   "execution_count": null,
   "metadata": {},
   "outputs": [],
   "source": []
  }
 ],
 "metadata": {
  "interpreter": {
   "hash": "c363bd452b4cd960c3544f6b5b319cd180a5fb23ba0f180b40c1c18a7f15ae61"
  },
  "kernelspec": {
   "display_name": "Python 3.9.7 ('base')",
   "language": "python",
   "name": "python3"
  },
  "language_info": {
   "codemirror_mode": {
    "name": "ipython",
    "version": 3
   },
   "file_extension": ".py",
   "mimetype": "text/x-python",
   "name": "python",
   "nbconvert_exporter": "python",
   "pygments_lexer": "ipython3",
   "version": "3.9.7"
  },
  "orig_nbformat": 4
 },
 "nbformat": 4,
 "nbformat_minor": 2
}
